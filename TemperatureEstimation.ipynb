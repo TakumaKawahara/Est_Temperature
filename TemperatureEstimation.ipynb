{
 "cells": [
  {
   "cell_type": "markdown",
   "metadata": {},
   "source": [
    "# Estimation of object temperature"
   ]
  },
  {
   "cell_type": "markdown",
   "metadata": {},
   "source": [
    "### Joule heat\n",
    "$$ Q = RI^2t $$  \n",
    "where   \n",
    "Q: Heating value (J), t: Time (sec), I: Current (A), R: Resistance (Ohm)\n"
   ]
  },
  {
   "cell_type": "markdown",
   "metadata": {},
   "source": [
    "### Newton's law of cooling\n",
    "$$ -\\frac{dQ}{dt} = \\alpha S(T - T_m)$$  \n",
    "where   \n",
    "Q: Heating value (J), t: Time (sec), alpha: Heat transfer coefficient (J/(sec m2 K)), T: tempereture of the object (K), T_m: ambient tempereture (K)\n"
   ]
  },
  {
   "cell_type": "code",
   "execution_count": 4,
   "metadata": {},
   "outputs": [],
   "source": [
    "import numpy as np\n",
    "import matplotlib.pyplot as plt\n",
    "%matplotlib inline"
   ]
  },
  {
   "cell_type": "code",
   "execution_count": 5,
   "metadata": {},
   "outputs": [],
   "source": [
    "# Parameter setting\n",
    "\n",
    "x = 10/10**3 #[m]\n",
    "y = 40/10**3 #[m]\n",
    "z = 100/10**3 #[m]\n",
    "Mass = 50/(10**3) #[kg]\n",
    "alpha =10#4*1.16279 #[J/(sec m2 K)]\n",
    "C = 1000#4.184*10**3 #[J/kg/K]\n",
    "t = 0 # [sec]\n",
    "T_m = 25 # [deg.C]\n",
    "T_m += 273 # [K]\n",
    "Current = 5# [A]\n",
    "Resistance = 0.1 #[Ohm]\n",
    "d_t = 1 #[sec]\n"
   ]
  },
  {
   "cell_type": "code",
   "execution_count": 6,
   "metadata": {},
   "outputs": [],
   "source": [
    "# Temperature simulation\n",
    "\n",
    "Surface_area = x*y*2 + y*z*2 + z*x*2 #[m2]\n",
    "t_x = [0]\n",
    "d_Q_list = [0]\n",
    "T = [T_m]\n",
    "T_degC = [T_m-273]\n",
    "#T.append(T_m)\n",
    "t = 0\n",
    "\n",
    "for i in range(1800):\n",
    "    t = i/60\n",
    "    t_x.append(t)\n",
    "    \n",
    "    Joule_heat = (Current)**2 * (Resistance) * d_t\n",
    "    Cooling_Newton = alpha * Surface_area * (T[i-1] - T_m) * d_t\n",
    "    d_Q = Joule_heat - Cooling_Newton\n",
    "    d_T = d_Q / (C * Mass) \n",
    "    d_Q_list.append(T[i-1] - T_m)\n",
    "    T.append(T[i-1] + d_T)\n",
    "    T_degC.append(T[i-1] + d_T - 273)\n"
   ]
  },
  {
   "cell_type": "code",
   "execution_count": 7,
   "metadata": {},
   "outputs": [
    {
     "data": {
      "text/plain": [
       "(25, 60)"
      ]
     },
     "execution_count": 7,
     "metadata": {},
     "output_type": "execute_result"
    },
    {
     "data": {
      "image/png": "[encoded data removed]",
      "text/plain": [
       "<matplotlib.figure.Figure at 0x111852fd0>"
      ]
     },
     "metadata": {},
     "output_type": "display_data"
    }
   ],
   "source": [
    "# Output figure\n",
    "\n",
    "fig = plt.figure()\n",
    "ax = fig.add_subplot(111)\n",
    "ax.plot(t_x, T_degC, label='Temperature')\n",
    "ax.set(ylabel='Temperature (deg.C)', xlabel='time (min)')\n",
    "ax.set_ylim(25, 60)"
   ]
  },
  {
   "cell_type": "code",
   "execution_count": null,
   "metadata": {},
   "outputs": [],
   "source": []
  }
 ],
 "metadata": {
  "kernelspec": {
   "display_name": "Python [default]",
   "language": "python",
   "name": "python3"
  },
  "language_info": {
   "codemirror_mode": {
    "name": "ipython",
    "version": 3
   },
   "file_extension": ".py",
   "mimetype": "text/x-python",
   "name": "python",
   "nbconvert_exporter": "python",
   "pygments_lexer": "ipython3",
   "version": "3.6.3"
  }
 },
 "nbformat": 4,
 "nbformat_minor": 2
}
